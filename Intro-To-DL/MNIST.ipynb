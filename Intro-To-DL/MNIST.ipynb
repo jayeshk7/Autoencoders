{
 "cells": [
  {
   "cell_type": "code",
   "execution_count": 1,
   "metadata": {},
   "outputs": [],
   "source": [
    "import numpy as np\n",
    "import pandas as pd\n",
    "import matplotlib.pyplot as plt\n",
    "\n",
    "df = pd.read_csv('mnist_train.csv',header = None)\n",
    "data = np.array(df)\n",
    "x = (data[:,1:].transpose())/255\n",
    "m = x.shape[1]\n",
    "n = x.shape[0]\n",
    "y_orig = data[:,0:1].transpose()\n",
    "y = np.zeros((10,m))    #one hot encoding vimportant\n",
    "for i in range(m): \n",
    "    y[int(y_orig[0,i]),i] = 1"
   ]
  },
  {
   "cell_type": "code",
   "execution_count": 2,
   "metadata": {},
   "outputs": [],
   "source": [
    "def relu(x):\n",
    "    reluu = np.maximum(x,0)\n",
    "    return reluu"
   ]
  },
  {
   "cell_type": "code",
   "execution_count": 3,
   "metadata": {},
   "outputs": [],
   "source": [
    "def backrelu(x):\n",
    "    result = (x + np.abs(x))/(2*np.abs(x))\n",
    "    return result"
   ]
  },
  {
   "cell_type": "code",
   "execution_count": 4,
   "metadata": {},
   "outputs": [],
   "source": [
    "def softmax(x):\n",
    "    expp = np.exp(x)\n",
    "    some = np.sum(expp, axis=0, keepdims=True)\n",
    "    result = expp/some\n",
    "    return result"
   ]
  },
  {
   "cell_type": "code",
   "execution_count": 5,
   "metadata": {},
   "outputs": [],
   "source": [
    "def layer_parameters(): \n",
    "    for z in range(1,len(layers)):\n",
    "        w = np.random.randn(layers[z],layers[z-1])*0.01\n",
    "        b = np.zeros((layers[z],1))\n",
    "        w_cache[\"w\" + str(z)] = w\n",
    "        b_cache[\"b\" + str(z)] = b\n",
    "    \n",
    "    parameters = {\"w_cache\" : w_cache,\n",
    "                  \"b_cache\" : b_cache}\n",
    "    \n",
    "    return parameters"
   ]
  },
  {
   "cell_type": "code",
   "execution_count": 6,
   "metadata": {},
   "outputs": [],
   "source": [
    "def linear_forward(parameters,x):\n",
    "    \n",
    "    a_cache['a0'] = x\n",
    "    activation = x\n",
    "    \n",
    "    for l in range(1,len(layers)-1):\n",
    "        w = parameters[\"w_cache\"][\"w\" + str(l)]\n",
    "        b = parameters[\"b_cache\"][\"b\" + str(l)]\n",
    "        z = np.dot(w,activation) + b\n",
    "        activation = relu(z)\n",
    "        z_cache[\"z\" + str(l)] = z\n",
    "        a_cache[\"a\" + str(l)] = activation\n",
    "    \n",
    "    w = parameters[\"w_cache\"][\"w\" + str(l+1)]\n",
    "    b = parameters[\"b_cache\"][\"b\" + str(l+1)]\n",
    "    z = np.dot(w,activation) + b\n",
    "    y_hat = softmax(z)\n",
    "    z_cache[\"z\" + str(l+1)] = z\n",
    "    a_cache[\"a\" + str(l+1)] = y_hat\n",
    "    \n",
    "    return y_hat"
   ]
  },
  {
   "cell_type": "code",
   "execution_count": 7,
   "metadata": {},
   "outputs": [],
   "source": [
    "def cost_function(y_hat):\n",
    "    cost = np.sum(y*np.log(abs(y_hat))) + np.sum((1-y)*np.log(abs(1-y_hat)))\n",
    "    cost = -(cost)/m\n",
    "    \n",
    "    return cost"
   ]
  },
  {
   "cell_type": "code",
   "execution_count": 8,
   "metadata": {},
   "outputs": [],
   "source": [
    "def myback(z_cache,w_cache,a_cache,y_hat,layers):\n",
    "    \n",
    "    l = len(layers)-1\n",
    "    w_l = w_cache[\"w\" + str(l)]\n",
    "    a_l = a_cache[\"a\" + str(l-1)]\n",
    "    \n",
    "    dz = y_hat - y\n",
    "    da = np.dot(w_l.T,dz)\n",
    "    dw_l = 1/m*(np.dot(dz,a_l.T))\n",
    "    db_l = 1/m*(np.sum(dz,axis=1,keepdims=True))\n",
    "    \n",
    "    dw_cache[\"dw\" + str(l)] = dw_l\n",
    "    db_cache[\"db\" + str(l)] = db_l\n",
    "    \n",
    "    for what in range(l-1,0,-1):\n",
    "        z_l = z_cache[\"z\" + str(what)]\n",
    "        w_l = w_cache[\"w\" + str(what)]\n",
    "        a_l = a_cache[\"a\" + str(what-1)]\n",
    "        \n",
    "        dz = da*backrelu(z_l)\n",
    "        dw_l = 1/m*(np.dot(dz,a_l.T))\n",
    "        db_l = 1/m*(np.sum(dz,axis=1,keepdims=True))\n",
    "        da_l = np.dot(w_l.T,dz)\n",
    "        \n",
    "        da = da_l\n",
    "        \n",
    "        dw_cache[\"dw\" + str(what)] = dw_l\n",
    "        db_cache[\"db\" + str(what)] = db_l\n",
    "\n",
    "        \n",
    "    return dw_cache,db_cache"
   ]
  },
  {
   "cell_type": "code",
   "execution_count": 9,
   "metadata": {},
   "outputs": [],
   "source": [
    "def update_parameters(w_cache,b_cache,dw_cache,db_cache,layers):\n",
    "    \n",
    "    L = len(layers)\n",
    "    lum=1\n",
    "    while lum < L:\n",
    "        w_cache[\"w\" + str(lum)] = w_cache[\"w\" + str(lum)] - alpha*dw_cache[\"dw\" + str(lum)]\n",
    "        b_cache[\"b\" + str(lum)] = b_cache[\"b\" + str(lum)] - alpha*db_cache[\"db\" + str(lum)]\n",
    "        lum = lum + 1\n",
    "    \n",
    "    parametrics = {\"w_cache\" : w_cache,\n",
    "                  \"b_cache\" : b_cache}\n",
    "    \n",
    "    return parametrics"
   ]
  },
  {
   "cell_type": "code",
   "execution_count": 10,
   "metadata": {},
   "outputs": [],
   "source": [
    "def model(X,Y,layers,alpha,number_iters):\n",
    "    costs = []\n",
    "    parameters = layer_parameters()\n",
    "    for j in range(number_iters):\n",
    "        y_hat = linear_forward(parameters,X)\n",
    "        cost = cost_function(y_hat)\n",
    "        costs.append(cost)\n",
    "        dw_cache,db_cache = myback(z_cache,w_cache,a_cache,y_hat,layers)\n",
    "        parameters = update_parameters(w_cache,b_cache,dw_cache,db_cache,layers)\n",
    "        print(j,\"\\t\",cost)\n",
    "    return parameters,costs"
   ]
  },
  {
   "cell_type": "code",
   "execution_count": 12,
   "metadata": {},
   "outputs": [
    {
     "data": {
      "text/plain": [
       "[<matplotlib.lines.Line2D at 0x7f500e8946a0>]"
      ]
     },
     "execution_count": 12,
     "metadata": {},
     "output_type": "execute_result"
    },
    {
     "data": {
      "image/png": "[encoded data removed]",
      "text/plain": [
       "<Figure size 432x288 with 1 Axes>"
      ]
     },
     "metadata": {
      "needs_background": "light"
     },
     "output_type": "display_data"
    }
   ],
   "source": [
    "plt.plot(costs)"
   ]
  },
  {
   "cell_type": "code",
   "execution_count": 13,
   "metadata": {},
   "outputs": [
    {
     "name": "stdout",
     "output_type": "stream",
     "text": [
      "97.47 %\n"
     ]
    }
   ],
   "source": [
    "#training\n",
    "df = pd.read_csv('mnist_test.csv',header = None)\n",
    "data = np.array(df)\n",
    "X_test = (data[:,1:].transpose())/255\n",
    "Y_test = data[:,0:1].transpose()\n",
    "accuracy = 0\n",
    "m_test = X_test.shape[1]\n",
    "predict = np.zeros((1,m_test))\n",
    "A_test = linear_forward(parameters,X_test)\n",
    "for i in range(m_test):\n",
    "    max = 0\n",
    "    for j in range(10):\n",
    "        if A_test[j,i] > max:\n",
    "            max = A_test[j,i]\n",
    "            max_index = j\n",
    "        predict[0,i] = max_index\n",
    "    if predict[0,i] == Y_test[0,i]:\n",
    "        accuracy = accuracy + 1\n",
    "accuracy = (accuracy/m_test)*100\n",
    "print(accuracy,\"%\")\n",
    "index = 0"
   ]
  },
  {
   "cell_type": "code",
   "execution_count": 401,
   "metadata": {},
   "outputs": [],
   "source": [
    "import csv\n",
    "import numpy as np\n",
    "x_1=[]\n",
    "y_1=[]\n",
    "with open('data.csv','rt')  as f:\n",
    "    data = csv.reader(f)\n",
    "    for row in data:\n",
    "        x_1.append(row[:2])\n",
    "        y_1.append(row[2:])"
   ]
  },
  {
   "cell_type": "code",
   "execution_count": 22,
   "metadata": {},
   "outputs": [],
   "source": [
    "x=np.array(x_1[0:],dtype=np.float).T\n",
    "y=np.array(y_1[0:],dtype=np.float).T"
   ]
  },
  {
   "cell_type": "code",
   "execution_count": 23,
   "metadata": {},
   "outputs": [],
   "source": [
    "layer = [2,5,5,1]\n",
    "w_cache = dict()\n",
    "b_cache = dict()\n",
    "z_cache = dict()\n",
    "a_cache = dict()\n",
    "m=118"
   ]
  },
  {
   "cell_type": "code",
   "execution_count": 36,
   "metadata": {},
   "outputs": [],
   "source": [
    "def layer_parameters(): \n",
    "    num_layers = 4\n",
    "    for z in range(1,num_layers):\n",
    "        w = np.random.randn(layer[z],layer[z-1])*0.01\n",
    "        b = np.zeros((layer[z],1))\n",
    "        w_cache[\"w\" + str(z)]=w\n",
    "        b_cache[\"b\" + str(z)]=b\n",
    "        print('w',w.shape)\n",
    "        print('b', b.shape)\n",
    "    \n",
    "    parameters = {\"w_cache\" : w_cache,\n",
    "                  \"b_cache\" : b_cache}\n",
    "    #print('i got parameters')\n",
    "    \n",
    "    return parameters"
   ]
  },
  {
   "cell_type": "code",
   "execution_count": 37,
   "metadata": {},
   "outputs": [],
   "source": [
    "def linear_forward(parameters,activation,i):\n",
    "    w = parameters[\"w_cache\"][\"w\" + str(i)]\n",
    "    b = parameters[\"b_cache\"][\"b\" + str(i)]\n",
    "    \n",
    "    z = np.dot(w,activation) + b\n",
    "    #print('w shape', w.shape)\n",
    "    #print('a shape', activation.shape)\n",
    "    #print('z shape', z.shape)\n",
    "    activation = np.tanh(z)\n",
    "    z_cache[\"z\" + str(i)]=z\n",
    "    a_cache[\"a\" + str(i+1)]=activation\n",
    "    #print('activation shape', activation.shape)\n",
    "    i+=1\n",
    "    #print('i got linear forward')\n",
    "    if i == len(layer):\n",
    "        return activation\n",
    "    else:\n",
    "        return linear_forward(parameters,activation,i)"
   ]
  },
  {
   "cell_type": "code",
   "execution_count": 38,
   "metadata": {},
   "outputs": [],
   "source": [
    "def cost_function(y_hat):\n",
    "    print('chal hatt',y_hat.shape)\n",
    "    cost = np.dot(y,np.log(abs(y_hat)).T) + np.dot((1-y),np.log(abs(1-y_hat)).T)\n",
    "    cost = -cost/118\n",
    "    #print(\"i got cost which is\",cost)\n",
    "    \n",
    "    return cost"
   ]
  },
  {
   "cell_type": "code",
   "execution_count": 39,
   "metadata": {},
   "outputs": [],
   "source": [
    "def backward_propagation(w_cache,z_cache,a_cache,da,layer_number):\n",
    "    \n",
    "    \n",
    "    \n",
    "    for what in range(0,4):\n",
    "        z_l = z_cache[\"z\" + str(layer_number)]\n",
    "        w_l = w_cache[\"w\" + str(layer_number)]\n",
    "        a_l = a_cache[\"a\" + str(layer_number)]\n",
    "    \n",
    "        print('z_l shape', z_l.shape)\n",
    "        print('a_l shape', a_l.shape)\n",
    "        print('w_l shape', w_l.shape)\n",
    "    \n",
    "        dz = np.multiply(da,1-np.power(z_l,2))\n",
    "        print('dz shape', dz.shape)\n",
    "    to\n",
    "        dw_l = 1/m*(np.dot(dz,a_l.T))\n",
    "        print('dw_l shaep', dw_l.shape)\n",
    "    \n",
    "        db_l = 1/m*(np.sum(dz,axis=1,keepdims=True))\n",
    "        da_l = np.dot(w_l.T,dz)\n",
    "        print('da shape', da_l.shape)\n",
    "        w_cache = update_parameters(dw_l,db_l,layer_number,w_cache,b_cache,alpha=0.7)\n",
    "        layer_number+=1\n",
    "        da = da_l\n",
    "    #print('i got backward')"
   ]
  },
  {
   "cell_type": "code",
   "execution_count": 40,
   "metadata": {},
   "outputs": [],
   "source": [
    "def update_parameters(dw_l,db_l,layer_number,w_cache,b_cache,alpha = 0.7):\n",
    "    w_cache[\"w\" + str(layer_number)] = w_cache[\"w\" + str(layer_number)] - alpha*dw_l\n",
    "    b_cache[\"b\" + str(layer_number)] = b_cache[\"b\" + str(layer_number)] - alpha*db_l\n",
    "    \n",
    "    print('WHAT THE FUCCC')\n",
    "    \n",
    "    return w_cache"
   ]
  },
  {
   "cell_type": "code",
   "execution_count": 41,
   "metadata": {},
   "outputs": [],
   "source": [
    "def nn_model(x,y,l):\n",
    "    \n",
    "    parameters = layer_parameters()\n",
    "    \n",
    "    a_cache[\"a\" + str(l)] = x\n",
    "    activation = x\n",
    "    \n",
    "    y_hat = linear_forward(parameters,activation,l)\n",
    "    cost = cost_function(y_hat)\n",
    "    \n",
    "    da = - (y/y_hat) - ((1-y)/(1-y_hat))\n",
    "    \n",
    "    backward_propagation(w_cache,z_cache,a_cache,da,layer_number)\n",
    "    \n",
    "    #print('i did it boi')\n",
    "    return None"
   ]
  },
  {
   "cell_type": "code",
   "execution_count": 42,
   "metadata": {},
   "outputs": [
    {
     "name": "stdout",
     "output_type": "stream",
     "text": [
      "w (5, 2)\n",
      "b (5, 1)\n",
      "w (5, 5)\n",
      "b (5, 1)\n",
      "w (1, 5)\n",
      "b (1, 1)\n",
      "chal hatt (1, 118)\n",
      "z_l shape (5, 118)\n",
      "a_l shape (2, 118)\n",
      "w_l shape (5, 2)\n",
      "dz shape (5, 118)\n",
      "dw_l shaep (5, 2)\n",
      "da shape (2, 118)\n",
      "WHAT THE FUCCC\n",
      "z_l shape (5, 118)\n",
      "a_l shape (5, 118)\n",
      "w_l shape (5, 5)\n"
     ]
    },
    {
     "ename": "ValueError",
     "evalue": "operands could not be broadcast together with shapes (2,118) (5,118) ",
     "output_type": "error",
     "traceback": [
      "\u001b[0;31m---------------------------------------------------------------------------\u001b[0m",
      "\u001b[0;31mValueError\u001b[0m                                Traceback (most recent call last)",
      "\u001b[0;32m<ipython-input-42-5b5b23793a2b>\u001b[0m in \u001b[0;36m<module>\u001b[0;34m\u001b[0m\n\u001b[1;32m      2\u001b[0m \u001b[0mi\u001b[0m\u001b[0;34m=\u001b[0m\u001b[0;36m1\u001b[0m\u001b[0;34m\u001b[0m\u001b[0;34m\u001b[0m\u001b[0m\n\u001b[1;32m      3\u001b[0m \u001b[0ma_cache\u001b[0m\u001b[0;34m[\u001b[0m\u001b[0;34m'a'\u001b[0m \u001b[0;34m+\u001b[0m \u001b[0mstr\u001b[0m\u001b[0;34m(\u001b[0m\u001b[0mi\u001b[0m\u001b[0;34m)\u001b[0m\u001b[0;34m]\u001b[0m \u001b[0;34m=\u001b[0m \u001b[0mx\u001b[0m\u001b[0;34m\u001b[0m\u001b[0;34m\u001b[0m\u001b[0m\n\u001b[0;32m----> 4\u001b[0;31m \u001b[0mu\u001b[0m \u001b[0;34m=\u001b[0m \u001b[0mnn_model\u001b[0m\u001b[0;34m(\u001b[0m\u001b[0mx\u001b[0m\u001b[0;34m,\u001b[0m\u001b[0my\u001b[0m\u001b[0;34m,\u001b[0m\u001b[0mi\u001b[0m\u001b[0;34m)\u001b[0m\u001b[0;34m\u001b[0m\u001b[0;34m\u001b[0m\u001b[0m\n\u001b[0m",
      "\u001b[0;32m<ipython-input-41-8319b8389cb5>\u001b[0m in \u001b[0;36mnn_model\u001b[0;34m(x, y, l)\u001b[0m\n\u001b[1;32m     11\u001b[0m     \u001b[0mda\u001b[0m \u001b[0;34m=\u001b[0m \u001b[0;34m-\u001b[0m \u001b[0;34m(\u001b[0m\u001b[0my\u001b[0m\u001b[0;34m/\u001b[0m\u001b[0my_hat\u001b[0m\u001b[0;34m)\u001b[0m \u001b[0;34m-\u001b[0m \u001b[0;34m(\u001b[0m\u001b[0;34m(\u001b[0m\u001b[0;36m1\u001b[0m\u001b[0;34m-\u001b[0m\u001b[0my\u001b[0m\u001b[0;34m)\u001b[0m\u001b[0;34m/\u001b[0m\u001b[0;34m(\u001b[0m\u001b[0;36m1\u001b[0m\u001b[0;34m-\u001b[0m\u001b[0my_hat\u001b[0m\u001b[0;34m)\u001b[0m\u001b[0;34m)\u001b[0m\u001b[0;34m\u001b[0m\u001b[0;34m\u001b[0m\u001b[0m\n\u001b[1;32m     12\u001b[0m \u001b[0;34m\u001b[0m\u001b[0m\n\u001b[0;32m---> 13\u001b[0;31m     \u001b[0mbackward_propagation\u001b[0m\u001b[0;34m(\u001b[0m\u001b[0mw_cache\u001b[0m\u001b[0;34m,\u001b[0m\u001b[0mz_cache\u001b[0m\u001b[0;34m,\u001b[0m\u001b[0ma_cache\u001b[0m\u001b[0;34m,\u001b[0m\u001b[0mda\u001b[0m\u001b[0;34m,\u001b[0m\u001b[0mlayer_number\u001b[0m\u001b[0;34m)\u001b[0m\u001b[0;34m\u001b[0m\u001b[0;34m\u001b[0m\u001b[0m\n\u001b[0m\u001b[1;32m     14\u001b[0m \u001b[0;34m\u001b[0m\u001b[0m\n\u001b[1;32m     15\u001b[0m     \u001b[0;31m#print('i did it boi')\u001b[0m\u001b[0;34m\u001b[0m\u001b[0;34m\u001b[0m\u001b[0;34m\u001b[0m\u001b[0m\n",
      "\u001b[0;32m<ipython-input-39-fb716469cafd>\u001b[0m in \u001b[0;36mbackward_propagation\u001b[0;34m(w_cache, z_cache, a_cache, da, layer_number)\u001b[0m\n\u001b[1;32m     12\u001b[0m         \u001b[0mprint\u001b[0m\u001b[0;34m(\u001b[0m\u001b[0;34m'w_l shape'\u001b[0m\u001b[0;34m,\u001b[0m \u001b[0mw_l\u001b[0m\u001b[0;34m.\u001b[0m\u001b[0mshape\u001b[0m\u001b[0;34m)\u001b[0m\u001b[0;34m\u001b[0m\u001b[0;34m\u001b[0m\u001b[0m\n\u001b[1;32m     13\u001b[0m \u001b[0;34m\u001b[0m\u001b[0m\n\u001b[0;32m---> 14\u001b[0;31m         \u001b[0mdz\u001b[0m \u001b[0;34m=\u001b[0m \u001b[0mnp\u001b[0m\u001b[0;34m.\u001b[0m\u001b[0mmultiply\u001b[0m\u001b[0;34m(\u001b[0m\u001b[0mda\u001b[0m\u001b[0;34m,\u001b[0m\u001b[0;36m1\u001b[0m\u001b[0;34m-\u001b[0m\u001b[0mnp\u001b[0m\u001b[0;34m.\u001b[0m\u001b[0mpower\u001b[0m\u001b[0;34m(\u001b[0m\u001b[0mz_l\u001b[0m\u001b[0;34m,\u001b[0m\u001b[0;36m2\u001b[0m\u001b[0;34m)\u001b[0m\u001b[0;34m)\u001b[0m\u001b[0;34m\u001b[0m\u001b[0;34m\u001b[0m\u001b[0m\n\u001b[0m\u001b[1;32m     15\u001b[0m         \u001b[0mprint\u001b[0m\u001b[0;34m(\u001b[0m\u001b[0;34m'dz shape'\u001b[0m\u001b[0;34m,\u001b[0m \u001b[0mdz\u001b[0m\u001b[0;34m.\u001b[0m\u001b[0mshape\u001b[0m\u001b[0;34m)\u001b[0m\u001b[0;34m\u001b[0m\u001b[0;34m\u001b[0m\u001b[0m\n\u001b[1;32m     16\u001b[0m \u001b[0;34m\u001b[0m\u001b[0m\n",
      "\u001b[0;31mValueError\u001b[0m: operands could not be broadcast together with shapes (2,118) (5,118) "
     ]
    }
   ],
   "source": [
    "layer_number=1\n",
    "i=1\n",
    "a_cache['a' + str(i)] = x\n",
    "u = nn_model(x,y,i)"
   ]
  },
  {
   "cell_type": "code",
   "execution_count": 3,
   "metadata": {},
   "outputs": [
    {
     "name": "stdout",
     "output_type": "stream",
     "text": [
      "0\n",
      "1\n",
      "2\n",
      "3\n",
      "4\n"
     ]
    }
   ],
   "source": [
    "for i in range (0,5):\n",
    "    print(i)"
   ]
  },
  {
   "cell_type": "code",
   "execution_count": 4,
   "metadata": {},
   "outputs": [],
   "source": [
    "a = (1,2,3,4,5,6,98,87)"
   ]
  },
  {
   "cell_type": "code",
   "execution_count": 5,
   "metadata": {},
   "outputs": [
    {
     "name": "stdout",
     "output_type": "stream",
     "text": [
      "0 1\n",
      "1 2\n",
      "2 3\n",
      "3 4\n",
      "4 5\n",
      "5 6\n",
      "6 98\n",
      "7 87\n"
     ]
    }
   ],
   "source": [
    "for i, data in enumerate(a):\n",
    "    print(i,data)"
   ]
  },
  {
   "cell_type": "code",
   "execution_count": null,
   "metadata": {},
   "outputs": [],
   "source": []
  }
 ],
 "metadata": {
  "kernelspec": {
   "display_name": "Python 3",
   "language": "python",
   "name": "python3"
  },
  "language_info": {
   "codemirror_mode": {
    "name": "ipython",
    "version": 3
   },
   "file_extension": ".py",
   "mimetype": "text/x-python",
   "name": "python",
   "nbconvert_exporter": "python",
   "pygments_lexer": "ipython3",
   "version": "3.7.3"
  }
 },
 "nbformat": 4,
 "nbformat_minor": 2
}
