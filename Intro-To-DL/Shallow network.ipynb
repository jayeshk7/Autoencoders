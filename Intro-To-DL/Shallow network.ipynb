{
 "cells": [
  {
   "cell_type": "code",
   "execution_count": 154,
   "metadata": {},
   "outputs": [],
   "source": [
    "import csv\n",
    "import numpy as np\n",
    "x_1=[]\n",
    "y_1=[]\n",
    "with open('data.csv','rt')  as f:\n",
    "    data = csv.reader(f)\n",
    "    for row in data:\n",
    "        x_1.append(row[:2])\n",
    "        y_1.append(row[2:])"
   ]
  },
  {
   "cell_type": "code",
   "execution_count": 155,
   "metadata": {},
   "outputs": [],
   "source": [
    "x=np.array(x_1[0:],dtype=np.float).T\n",
    "y=np.array(y_1[0:],dtype=np.float).T"
   ]
  },
  {
   "cell_type": "code",
   "execution_count": null,
   "metadata": {},
   "outputs": [],
   "source": [
    "import numpy as np\n",
    "import pandas as pd\n",
    "import matplotlib.pyplot as plt\n",
    "\n",
    "df = pd.read_csv('mnist_train.csv',header = None)\n",
    "data = np.array(df)\n",
    "x = (data[:,1:].transpose())/255\n",
    "m = X.shape[1]\n",
    "n = X.shape[0]\n",
    "y_orig = data[:,0:1].transpose()\n",
    "y = np.zeros((10,m))\n",
    "for i in range(m): \n",
    "    Y[int(Y_orig[0,i]),i] = 1"
   ]
  },
  {
   "cell_type": "code",
   "execution_count": null,
   "metadata": {},
   "outputs": [],
   "source": [
    "def parameters(x,y):\n",
    "    n_x = len(x)\n",
    "    n_h = 120\n",
    "    m = len(y[0])\n",
    "    \n",
    "    w1 = np.random.rand(n_h,n_x)*0.01\n",
    "    b1 = np.zeros((n_h,m))\n",
    "    w2 = np.random.rand(1,n_h)*0.01\n",
    "    b2 = np.zeros((1,1))\n",
    "    \n",
    "    parameters={\"w1\" : w1,\n",
    "                \"w2\" : w2,\n",
    "                \"b1\" : b1,\n",
    "                \"b2\" : b2,\n",
    "                \"n_x\" : n_x,\n",
    "                \"n_h\" : n_h,\n",
    "                \"m\" : m}\n",
    "    \n",
    "    return parameters"
   ]
  },
  {
   "cell_type": "code",
   "execution_count": 157,
   "metadata": {},
   "outputs": [
    {
     "name": "stdout",
     "output_type": "stream",
     "text": [
      "{'w1': array([[0.007055  , 0.00354497],\n",
      "       [0.00579059, 0.00551616],\n",
      "       [0.00217556, 0.00472041]]), 'w2': array([[0.00709775, 0.00596069, 0.00525062]]), 'b1': array([[0., 0., 0., 0., 0., 0., 0., 0., 0., 0., 0., 0., 0., 0., 0., 0.,\n",
      "        0., 0., 0., 0., 0., 0., 0., 0., 0., 0., 0., 0., 0., 0., 0., 0.,\n",
      "        0., 0., 0., 0., 0., 0., 0., 0., 0., 0., 0., 0., 0., 0., 0., 0.,\n",
      "        0., 0., 0., 0., 0., 0., 0., 0., 0., 0., 0., 0., 0., 0., 0., 0.,\n",
      "        0., 0., 0., 0., 0., 0., 0., 0., 0., 0., 0., 0., 0., 0., 0., 0.,\n",
      "        0., 0., 0., 0., 0., 0., 0., 0., 0., 0., 0., 0., 0., 0., 0., 0.,\n",
      "        0., 0., 0., 0., 0., 0., 0., 0., 0., 0., 0., 0., 0., 0., 0., 0.,\n",
      "        0., 0., 0., 0., 0., 0.],\n",
      "       [0., 0., 0., 0., 0., 0., 0., 0., 0., 0., 0., 0., 0., 0., 0., 0.,\n",
      "        0., 0., 0., 0., 0., 0., 0., 0., 0., 0., 0., 0., 0., 0., 0., 0.,\n",
      "        0., 0., 0., 0., 0., 0., 0., 0., 0., 0., 0., 0., 0., 0., 0., 0.,\n",
      "        0., 0., 0., 0., 0., 0., 0., 0., 0., 0., 0., 0., 0., 0., 0., 0.,\n",
      "        0., 0., 0., 0., 0., 0., 0., 0., 0., 0., 0., 0., 0., 0., 0., 0.,\n",
      "        0., 0., 0., 0., 0., 0., 0., 0., 0., 0., 0., 0., 0., 0., 0., 0.,\n",
      "        0., 0., 0., 0., 0., 0., 0., 0., 0., 0., 0., 0., 0., 0., 0., 0.,\n",
      "        0., 0., 0., 0., 0., 0.],\n",
      "       [0., 0., 0., 0., 0., 0., 0., 0., 0., 0., 0., 0., 0., 0., 0., 0.,\n",
      "        0., 0., 0., 0., 0., 0., 0., 0., 0., 0., 0., 0., 0., 0., 0., 0.,\n",
      "        0., 0., 0., 0., 0., 0., 0., 0., 0., 0., 0., 0., 0., 0., 0., 0.,\n",
      "        0., 0., 0., 0., 0., 0., 0., 0., 0., 0., 0., 0., 0., 0., 0., 0.,\n",
      "        0., 0., 0., 0., 0., 0., 0., 0., 0., 0., 0., 0., 0., 0., 0., 0.,\n",
      "        0., 0., 0., 0., 0., 0., 0., 0., 0., 0., 0., 0., 0., 0., 0., 0.,\n",
      "        0., 0., 0., 0., 0., 0., 0., 0., 0., 0., 0., 0., 0., 0., 0., 0.,\n",
      "        0., 0., 0., 0., 0., 0.]]), 'b2': array([[0.]]), 'n_x': 2, 'n_h': 3, 'm': 118}\n"
     ]
    }
   ],
   "source": [
    "parameters = initialise_parameters(x,y)\n",
    "print(parameters)"
   ]
  },
  {
   "cell_type": "code",
   "execution_count": 165,
   "metadata": {},
   "outputs": [],
   "source": [
    "def forward_propagation(x,parameters):\n",
    "    w1 = parameters[\"w1\"]\n",
    "    b1 = parameters[\"b1\"]\n",
    "    w2 = parameters[\"w2\"]\n",
    "    b2 = parameters[\"b2\"]\n",
    "   # print(w1.shape,b1.shape,w2.shape,b2.shape)\n",
    "    z1 = np.dot(w1,x) + b1\n",
    "    a1 = (np.exp(z1)-np.exp(-z1))/(np.exp(z1)+np.exp(-z1))\n",
    "    z2 = np.dot(w2,a1) + b2\n",
    "    a2 = 1/(1+np.exp(-z2))\n",
    "   # print(z1.shape,a1.shape,z2.shape,a2.shape)\n",
    "    \n",
    "    forward = {\"z1\" : z1,\n",
    "               \"z2\" : z2,\n",
    "               \"a1\" : a1,\n",
    "               \"a2\" : a2}\n",
    "    \n",
    "    return forward"
   ]
  },
  {
   "cell_type": "code",
   "execution_count": 166,
   "metadata": {},
   "outputs": [],
   "source": [
    "parameters1 = initialise_parameters(x,y)\n",
    "forward = forward_propagation(x,parameters1)"
   ]
  },
  {
   "cell_type": "code",
   "execution_count": 167,
   "metadata": {},
   "outputs": [],
   "source": [
    "def backward_propagation(y,forward,parameters1):  \n",
    "    \n",
    "    a2 = forward[\"a2\"]\n",
    "    a1 = forward[\"a1\"]\n",
    "    m=y.shape[1]\n",
    "    w2 = parameters1[\"w2\"]\n",
    "    dz2 = a2 - y\n",
    "    dw2 = 1/m*(np.dot(dz2,a1.T))\n",
    "    db2 = 1/m*(np.sum(dz2,axis=1,keepdims=True))\n",
    "    dz1 = np.dot(w2.T,dz2)*(1-np.power(a1,2))\n",
    "    dw1 = 1/m*np.dot(dz1,x.T)\n",
    "    db1 = 1/m*(np.sum(dz1,axis=1,keepdims=True))\n",
    "    \n",
    "    backward = {\"dz2\" : dz2,\n",
    "                \"dz1\" : dz1,\n",
    "                \"dw2\" : dw2,\n",
    "                \"dw1\" : dw1,\n",
    "                \"db2\" : db2,\n",
    "                \"db1\" : db1}\n",
    "    \n",
    "    return backward\n",
    "    "
   ]
  },
  {
   "cell_type": "code",
   "execution_count": 168,
   "metadata": {},
   "outputs": [],
   "source": [
    "def cost_function(y,parameters,forward):\n",
    "    m = y.shape[1]\n",
    "    a2 = forward[\"a2\"]\n",
    "    \n",
    "    j = np.dot(y,np.log(a2).T) + np.dot((1-y),np.log(1-a2).T) \n",
    "    j = -j/m\n",
    "    \n",
    "    return j"
   ]
  },
  {
   "cell_type": "code",
   "execution_count": 172,
   "metadata": {},
   "outputs": [],
   "source": [
    "def update(parameters,backward,alpha = 0.07):\n",
    "    w1 = parameters[\"w1\"]\n",
    "    w2 = parameters[\"w2\"]\n",
    "    b1 = parameters[\"b1\"]\n",
    "    b2 = parameters[\"b2\"]\n",
    "    \n",
    "    dw1 = backward[\"dw1\"]\n",
    "    dw2 = backward[\"dw2\"]\n",
    "    db1 = backward[\"db1\"]\n",
    "    db2 = backward[\"db2\"]\n",
    "    \n",
    "    w1 = w1 - alpha*dw1\n",
    "    w2 = w2 - alpha*dw2\n",
    "    b1 = b1 - alpha*db1\n",
    "    b2 = b2 - alpha*db2\n",
    "    \n",
    "    update = {\"w1\" : w1,\n",
    "              \"w2\" : w2,\n",
    "              \"b1\" : b1,\n",
    "              \"b2\" : b2}\n",
    "    \n",
    "    return update"
   ]
  },
  {
   "cell_type": "code",
   "execution_count": 177,
   "metadata": {},
   "outputs": [],
   "source": [
    "def nn_model(x,y,num_iter = 10000,print_cost = False):\n",
    "    \n",
    "    parameters1 = initialise_parameters(x,y)\n",
    "    \n",
    "    for i in range(0,num_iter):\n",
    "        forward = forward_propagation(x,parameters1)\n",
    "        cost = cost_function(y,parameters1,forward)\n",
    "        backward = backward_propagation(y,forward,parameters1)\n",
    "        parameters1 = update(parameters1,backward)\n",
    "        \n",
    "        if print_cost and i%100000==0:\n",
    "            print(\"cost after iteration %i = %f\", (i,cost))\n",
    "            \n",
    "    return parameters1"
   ]
  },
  {
   "cell_type": "code",
   "execution_count": null,
   "metadata": {},
   "outputs": [],
   "source": [
    "parameters2=nn_model(x,y,1000000,True)"
   ]
  },
  {
   "cell_type": "code",
   "execution_count": 118,
   "metadata": {},
   "outputs": [
    {
     "data": {
      "text/plain": [
       "(1, 3)"
      ]
     },
     "execution_count": 118,
     "metadata": {},
     "output_type": "execute_result"
    }
   ],
   "source": []
  },
  {
   "cell_type": "code",
   "execution_count": 113,
   "metadata": {},
   "outputs": [],
   "source": [
    "forward = forward_propagation(x,parameters1)\n",
    "A2=forward[\"a2\"]"
   ]
  },
  {
   "cell_type": "code",
   "execution_count": 115,
   "metadata": {},
   "outputs": [
    {
     "data": {
      "text/plain": [
       "(2, 118)"
      ]
     },
     "execution_count": 115,
     "metadata": {},
     "output_type": "execute_result"
    }
   ],
   "source": [
    "x.shape"
   ]
  },
  {
   "cell_type": "code",
   "execution_count": null,
   "metadata": {},
   "outputs": [],
   "source": [
    "cost = cost_function"
   ]
  }
 ],
 "metadata": {
  "kernelspec": {
   "display_name": "Python 3",
   "language": "python",
   "name": "python3"
  },
  "language_info": {
   "codemirror_mode": {
    "name": "ipython",
    "version": 3
   },
   "file_extension": ".py",
   "mimetype": "text/x-python",
   "name": "python",
   "nbconvert_exporter": "python",
   "pygments_lexer": "ipython3",
   "version": "3.7.3"
  }
 },
 "nbformat": 4,
 "nbformat_minor": 2
}
